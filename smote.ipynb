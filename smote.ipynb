{
 "cells": [
  {
   "cell_type": "code",
   "execution_count": 6,
   "metadata": {},
   "outputs": [
    {
     "name": "stdout",
     "output_type": "stream",
     "text": [
      "(1151, 20)\n",
      "Before OverSampling  # 1 = 438\n",
      "Before OverSampling  # 0 = 367\n",
      "-----------------------------------------\n",
      "After OverSampling  # 1 = 438\n",
      "After OverSampling  # 0 = 438\n"
     ]
    }
   ],
   "source": [
    "import pandas as pd\n",
    "from sklearn import svm\n",
    "from imblearn.over_sampling import SMOTE\n",
    "from sklearn.model_selection import train_test_split  \n",
    "from sklearn.metrics import classification_report\n",
    "\n",
    "data = pd.read_csv('Data.csv')\n",
    "print(data.shape)\n",
    "x = data.iloc[:, :-1] \n",
    "y = data.iloc[:, -1]\n",
    "\n",
    "x_train, x_test, y_train, y_test = train_test_split(x, y, test_size=0.3)  \n",
    "\n",
    "print(\"Before OverSampling  # 1 =\", sum(y_train == 1)) \n",
    "print(\"Before OverSampling  # 0 =\", sum(y_train == 0)) \n",
    "\n",
    "sm = SMOTE()\n",
    "x_res, y_res = sm.fit_resample(x_train, y_train)\n",
    "\n",
    "print(\"-----------------------------------------\")\n",
    "print(\"After OverSampling  # 1 =\", sum(y_res == 1)) \n",
    "print(\"After OverSampling  # 0 =\", sum(y_res == 0))"
   ]
  },
  {
   "cell_type": "code",
   "execution_count": null,
   "metadata": {},
   "outputs": [],
   "source": []
  },
  {
   "cell_type": "code",
   "execution_count": null,
   "metadata": {},
   "outputs": [],
   "source": []
  },
  {
   "cell_type": "code",
   "execution_count": null,
   "metadata": {},
   "outputs": [],
   "source": []
  },
  {
   "cell_type": "code",
   "execution_count": null,
   "metadata": {},
   "outputs": [],
   "source": []
  }
 ],
 "metadata": {
  "kernelspec": {
   "display_name": "Python 3 (ipykernel)",
   "language": "python",
   "name": "python3"
  },
  "language_info": {
   "codemirror_mode": {
    "name": "ipython",
    "version": 3
   },
   "file_extension": ".py",
   "mimetype": "text/x-python",
   "name": "python",
   "nbconvert_exporter": "python",
   "pygments_lexer": "ipython3",
   "version": "3.9.13"
  }
 },
 "nbformat": 4,
 "nbformat_minor": 4
}
